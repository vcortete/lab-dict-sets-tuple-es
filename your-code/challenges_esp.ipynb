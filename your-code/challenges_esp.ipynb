{
 "cells": [
  {
   "cell_type": "markdown",
   "metadata": {},
   "source": [
    "## Desafío 1: Tuplas\n",
    "\n",
    "#### ¿Sabías que puedes crear tuplas con solo un elemento?\n",
    "\n",
    "**En la celda de abajo, define una variable `tup` con un único elemento `\"I\"`.**"
   ]
  },
  {
   "cell_type": "code",
   "execution_count": 1,
   "metadata": {},
   "outputs": [
    {
     "name": "stdout",
     "output_type": "stream",
     "text": [
      "I\n"
     ]
    }
   ],
   "source": [
    "# Tu codígo aquí\n",
    "tup = (\"I\")\n",
    "print(tup) "
   ]
  },
  {
   "cell_type": "markdown",
   "metadata": {},
   "source": [
    "#### Imprime el tipo de `tup`.\n",
    "\n",
    "Asegúrate de que su tipo sea correcto (es decir, *tuple* en lugar de *str*)."
   ]
  },
  {
   "cell_type": "code",
   "execution_count": 2,
   "metadata": {},
   "outputs": [
    {
     "data": {
      "text/plain": [
       "str"
      ]
     },
     "execution_count": 2,
     "metadata": {},
     "output_type": "execute_result"
    }
   ],
   "source": [
    "# Tu codígo aquí\n",
    "type(tup)\n"
   ]
  },
  {
   "cell_type": "markdown",
   "metadata": {},
   "source": [
    "#### Ahora intenta agregar los siguientes elementos a `tup`.\n",
    "\n",
    "¿Puedes hacerlo? Explica.\n",
    "\n",
    "```\n",
    "\"r\", \"o\", \"n\", \"h\", \"a\", \"c\", \"k',\n",
    "```"
   ]
  },
  {
   "cell_type": "code",
   "execution_count": 3,
   "metadata": {
    "scrolled": true
   },
   "outputs": [
    {
     "name": "stdout",
     "output_type": "stream",
     "text": [
      "['I']\n",
      "<class 'list'>\n",
      "['r', 'o', 'n', 'h', 'a', 'c', 'k']\n",
      "<class 'list'>\n",
      "['I', 'r', 'o', 'n', 'h', 'a', 'c', 'k']\n"
     ]
    }
   ],
   "source": [
    "# Tu codígo aquí\n",
    "#1: creo una lista vacía para almacenar los strings\n",
    "lista_strings = []\n",
    "#2: creo un ciclo for para extraer el elemento \"I\" de la tupla y lo agregue a la lista vacía\n",
    "for i in tup:\n",
    "    lista_strings.append(i)\n",
    "#3: imprimo la lista\n",
    "print(lista_strings)\n",
    "#4: imprimo el tipo de dato de la lista\n",
    "print(type(lista_strings))\n",
    "#5: creo una lista con los strings del ejercicio\n",
    "lista_ejercicio=[\"r\", \"o\",\"n\",\"h\",\"a\",\"c\",\"k\",]\n",
    "#6: imprimo la lista\n",
    "print(lista_ejercicio)\n",
    "#7: imprimo el tipo de dato de la lista\n",
    "print(type(lista_ejercicio))\n",
    "#8: aplico la función extend() para extender la lista agregando todos los elementos de la lista dada\n",
    "lista_strings.extend(lista_ejercicio)\n",
    "#9: imprimo la lista\n",
    "print(lista_strings)\n",
    "\n",
    "# Tu explicación aquí\n",
    "# La tupla no puede ser modificada, por lo que creo una lista vacía para almacenar los strings."
   ]
  },
  {
   "cell_type": "markdown",
   "metadata": {},
   "source": [
    "#### ¿Qué tal si reasignas un nuevo valor a una tupla existente?\n",
    "\n",
    "Reasigna los siguientes elementos a `tup`. ¿Puedes hacerlo? Explica.\n",
    "\n",
    "```\n",
    "\"I\", \"r\", \"o\", \"n\", \"h\", \"a\", \"c\", \"k\"\n",
    "```"
   ]
  },
  {
   "cell_type": "code",
   "execution_count": 4,
   "metadata": {},
   "outputs": [
    {
     "name": "stdout",
     "output_type": "stream",
     "text": [
      "('I', 'r', 'o', 'n', 'h', 'a', 'c', 'k')\n",
      "<class 'tuple'>\n"
     ]
    }
   ],
   "source": [
    "# Tu codígo aquí\n",
    "#1:Utilizo el comando tuple() para convertir la lista en una tupla\n",
    "tup = (),\n",
    "tup = tuple(lista_strings)\n",
    "print(tup)\n",
    "print(type(tup))"
   ]
  },
  {
   "cell_type": "markdown",
   "metadata": {},
   "source": [
    "#### Divide `tup` en `tup1` y `tup2` con 4 elementos en cada una.\n",
    "\n",
    "`tup1` debe ser `(\"I\", \"r\", \"o\", \"n\")` y `tup2` debe ser `(\"h\", \"a\", \"c\", \"k\")`.\n",
    "\n",
    "*Sugerencia: usa números de índice positivos para la asignación de `tup1` y números de índice negativos para la asignación de `tup2`. Los números de índice positivos cuentan desde el principio, mientras que los números de índice negativos cuentan desde el final de la secuencia.*\n",
    "\n",
    "También imprime `tup1` y `tup2`."
   ]
  },
  {
   "cell_type": "code",
   "execution_count": 8,
   "metadata": {},
   "outputs": [
    {
     "name": "stdout",
     "output_type": "stream",
     "text": [
      "('I', 'r', 'o', 'n')\n",
      "('h', 'a', 'c', 'k')\n"
     ]
    }
   ],
   "source": [
    "# Tu codígo aquí\n",
    "#1: Compruebo que la tupla tiene al menos 8 elementos para poder hacer la actividad\n",
    "len(tup)\n",
    "#2: Utilizo slicing para crear dos nuevas tuplas\n",
    "tup1 = tup[:4]\n",
    "tup2 = tup[-4:]\n",
    "\n",
    "print(tup1)\n",
    "print(tup2)\n"
   ]
  },
  {
   "cell_type": "code",
   "execution_count": null,
   "metadata": {},
   "outputs": [],
   "source": []
  },
  {
   "cell_type": "markdown",
   "metadata": {},
   "source": [
    "#### Suma `tup1` y `tup2` en `tup3` usando el operador `+`.\n",
    "\n",
    "Luego imprime `tup3` y verifica si `tup3` es igual a `tup`."
   ]
  },
  {
   "cell_type": "code",
   "execution_count": 10,
   "metadata": {},
   "outputs": [
    {
     "name": "stdout",
     "output_type": "stream",
     "text": [
      "('I', 'r', 'o', 'n', 'h', 'a', 'c', 'k')\n",
      "Las tuplas son iguales\n"
     ]
    }
   ],
   "source": [
    "# Tu codígo aquí\n",
    "#1:Creo una tupla3 vacía\n",
    "tup3 = ()\n",
    "tup3 = tup1 + tup2\n",
    "print(tup3)\n",
    "\n",
    "if tup == tup3:\n",
    "    print(\"Las tuplas son iguales\")\n"
   ]
  },
  {
   "cell_type": "markdown",
   "metadata": {},
   "source": [
    "#### Cuenta el número de elementos en `tup1` y `tup2`. Luego suma los dos conteos y verifica si la suma es igual al número de elementos en `tup3`."
   ]
  },
  {
   "cell_type": "code",
   "execution_count": 13,
   "metadata": {},
   "outputs": [
    {
     "name": "stdout",
     "output_type": "stream",
     "text": [
      "Número de elementos de tup1:4\n",
      "Número de elementos de tup2:4\n",
      "Número de elementos de tup3:8\n",
      "Suma de conteos de tup1 y tup2:8\n",
      "La suma de los elementos de tup1 y tup2 es igual al número de elementos de tup3\n"
     ]
    }
   ],
   "source": [
    "# Tu codígo aquí\n",
    "#1: Cuento los elementos de cada tupla\n",
    "count_tup1 = len(tup1)\n",
    "print(f\"Número de elementos de tup1:{count_tup1}\")\n",
    "count_tup2 = len(tup2)\n",
    "print(f\"Número de elementos de tup2:{count_tup2}\")\n",
    "count_tup3 = len(tup3)\n",
    "print(f\"Número de elementos de tup3:{count_tup3}\")\n",
    "\n",
    "#2: Sumo los conteos de tup1 y tup2\n",
    "sum_count = count_tup1 + count_tup2\n",
    "print(f\"Suma de conteos de tup1 y tup2:{sum_count}\")\n",
    "\n",
    "#3: Verifico si la suma del conteo de tup1 + tup2 es igual al número de elementos de tup3\n",
    "if sum_count == count_tup3:\n",
    "    print(\"La suma de los elementos de tup1 y tup2 es igual al número de elementos de tup3\")"
   ]
  },
  {
   "cell_type": "markdown",
   "metadata": {},
   "source": [
    "#### ¿Cuál es el número de índice de `\"h\"` en `tup3`?"
   ]
  },
  {
   "cell_type": "code",
   "execution_count": 16,
   "metadata": {},
   "outputs": [
    {
     "name": "stdout",
     "output_type": "stream",
     "text": [
      "('I', 'r', 'o', 'n', 'h', 'a', 'c', 'k')\n"
     ]
    },
    {
     "data": {
      "text/plain": [
       "4"
      ]
     },
     "execution_count": 16,
     "metadata": {},
     "output_type": "execute_result"
    }
   ],
   "source": [
    "# Tu codígo aquí\n",
    "#1: Para encontrar el índice de un elemento utilizo el método index()\n",
    "print(tup3)\n",
    "tup3.index(\"h\")\n"
   ]
  },
  {
   "cell_type": "markdown",
   "metadata": {},
   "source": [
    "#### Ahora, usa un bucle FOR para verificar si cada letra en la siguiente lista está presente en `tup3`:\n",
    "\n",
    "\n",
    "```\n",
    "letters = [\"a\", \"b\", \"c\", \"d\", \"e\"]\n",
    "```\n",
    "\n",
    "\n",
    "Para cada letra que verifiques, imprime `True` si está presente en `tup3`, de lo contrario imprime `False`.\n",
    "\n",
    "*Sugerencia: solo necesitas hacer un bucle con `letters`. No necesitas hacer un bucle con `tup3` porque hay un operador de Python `in` que puedes usar. Consulta la [referencia](https://stackoverflow.com/questions/17920147/how-to-check-if-a-tuple-contains-an-element-in-python).*"
   ]
  },
  {
   "cell_type": "code",
   "execution_count": 18,
   "metadata": {},
   "outputs": [
    {
     "name": "stdout",
     "output_type": "stream",
     "text": [
      "La letra a está en la tupla\n",
      "La letra b no está en la tupla\n",
      "La letra c está en la tupla\n",
      "La letra d no está en la tupla\n",
      "La letra e no está en la tupla\n"
     ]
    }
   ],
   "source": [
    "# Tu codígo aquí\n",
    "tup3 = ('I', 'r', 'o', 'n', 'h', 'a', 'c', 'k')\n",
    "\n",
    "letters = ['a', 'b', 'c', 'd', 'e']\n",
    "\n",
    "#1:Creamos el bucle for para verificar cada letra\n",
    "for letter in letters:\n",
    "    #2:Verificamos si la letra está en la tupla\n",
    "    if letter in tup3:\n",
    "        print(f\"La letra {letter} está en la tupla\")\n",
    "    else: \n",
    "        print(f\"La letra {letter} no está en la tupla\")  "
   ]
  },
  {
   "cell_type": "markdown",
   "metadata": {},
   "source": [
    "#### ¿Cuántas veces aparece cada letra de `letters` en `tup3`?\n",
    "\n",
    "Imprime el número de ocurrencias de cada letra."
   ]
  },
  {
   "cell_type": "code",
   "execution_count": 20,
   "metadata": {},
   "outputs": [
    {
     "name": "stdout",
     "output_type": "stream",
     "text": [
      "La letra a aparece 1 veces en tup3\n",
      "La letra b aparece 0 veces en tup3\n",
      "La letra c aparece 1 veces en tup3\n",
      "La letra d aparece 0 veces en tup3\n",
      "La letra e aparece 0 veces en tup3\n"
     ]
    }
   ],
   "source": [
    "# Tu codígo aquí\n",
    "#1: Creo un for para iterar sobre cada letra de la variables letters\n",
    "for letter in letters:\n",
    "    count = tup3.count(letter)\n",
    "    print(f\"La letra {letter} aparece {count} veces en tup3\") \n",
    "    #2: Imprimo el conteo de cada"
   ]
  },
  {
   "cell_type": "markdown",
   "metadata": {},
   "source": [
    "## Desafío 2: Conjuntos\n",
    "\n",
    "Hay mucho que aprender sobre los Conjuntos en Python y la información presentada en la lección es limitada debido a su longitud. Para aprender a fondo sobre los Conjuntos en Python, te recomendamos encarecidamente que revises el tutorial de W3Schools sobre [Ejemplos y Métodos de Conjuntos en Python](https://www.w3schools.com/python/python_sets.asp) antes de trabajar en este laboratorio. Algunas preguntas difíciles de este laboratorio tienen sus soluciones en el tutorial de W3Schools.\n",
    "\n",
    "#### Primero, importa la biblioteca `random` de Python."
   ]
  },
  {
   "cell_type": "code",
   "execution_count": 21,
   "metadata": {},
   "outputs": [],
   "source": [
    "import random"
   ]
  },
  {
   "cell_type": "markdown",
   "metadata": {},
   "source": [
    "#### En la celda de abajo, crea una lista llamada `sample_list_1` con 80 valores aleatorios.\n",
    "\n",
    "Requisitos:\n",
    "\n",
    "* Cada valor es un entero entre 0 y 100.\n",
    "* Cada valor en la lista es único.\n",
    "\n",
    "Imprime `sample_list_1` para revisar sus valores.\n",
    "\n",
    "*Sugerencia: usa `random.sample` ([referencia](https://docs.python.org/3/library/random.html#random.sample)).*"
   ]
  },
  {
   "cell_type": "code",
   "execution_count": 23,
   "metadata": {},
   "outputs": [
    {
     "name": "stdout",
     "output_type": "stream",
     "text": [
      "[23, 82, 38, 36, 46, 43, 24, 53, 56, 16, 9, 4, 77, 33, 87, 95, 100, 66, 19, 72, 84, 48, 73, 3, 67, 81, 8, 65, 6, 15, 86, 39, 57, 94, 49, 52, 27, 64, 25, 78, 7, 21, 44, 2, 89, 14, 32, 85, 93, 71, 55, 35, 13, 74, 59, 69, 96, 10, 88, 91, 31, 1, 61, 90, 83, 40, 60, 26, 41, 99, 18, 58, 11, 92, 29, 97, 42, 17, 76, 51]\n"
     ]
    }
   ],
   "source": [
    "# tu codigo aquí\n",
    "\n",
    "#1: Creo la variable sample_list_1 vacía\n",
    "sample_list_1 = []\n",
    "#2: Utilizo el método random.sample para generar una lista de 80 números enteros aleatorios entre 1 y 100, en el que cada valor es un entero y cada valor es único\n",
    "#2.1: la función random.sample() permite que todos los valores sean únicos\n",
    "#2.2: el rango range(101) va a generar números del 0 al 100\n",
    "sample_list_1 = random.sample(range(101), 80)\n",
    "print(sample_list_1)"
   ]
  },
  {
   "cell_type": "markdown",
   "metadata": {},
   "source": [
    "#### Convierte `sample_list_1` en un conjunto llamado `set1`. Imprime la longitud del conjunto. ¿Su longitud sigue siendo 80?"
   ]
  },
  {
   "cell_type": "code",
   "execution_count": 25,
   "metadata": {},
   "outputs": [
    {
     "name": "stdout",
     "output_type": "stream",
     "text": [
      "80\n",
      "La longitud sigue siendo 80: True\n"
     ]
    }
   ],
   "source": [
    "# tu codigo aquí\n",
    "#1: Necesito convertir sample_list_1 en un conjunto\n",
    "set1 = set(sample_list_1)\n",
    "\n",
    "#2: Imrpimo la longitud del nuevo conjunto\n",
    "print(len(set1))\n",
    "\n",
    "#3: Verifico que la longitud sigue siendo 80\n",
    "print(f\"La longitud sigue siendo 80: {len(set1) == 80}\")"
   ]
  },
  {
   "cell_type": "markdown",
   "metadata": {},
   "source": [
    "#### Crea otra lista llamada `sample_list_2` con 80 valores aleatorios.\n",
    "\n",
    "Requisitos:\n",
    "\n",
    "* Cada valor es un entero entre 0 y 100.\n",
    "* Los valores en la lista no tienen que ser únicos.\n",
    "\n",
    "*Sugerencia: Usa un bucle FOR.*"
   ]
  },
  {
   "cell_type": "code",
   "execution_count": 27,
   "metadata": {},
   "outputs": [
    {
     "name": "stdout",
     "output_type": "stream",
     "text": [
      "[81, 57, 83, 74, 54, 29, 12, 22, 87, 26, 6, 6, 31, 1, 39, 69, 48, 30, 77, 20, 9, 4, 46, 77, 86, 85, 78, 90, 26, 68, 56, 46, 33, 30, 79, 15, 97, 86, 99, 3, 92, 82, 49, 34, 9, 97, 64, 14, 49, 15, 49, 82, 89, 6, 72, 84, 30, 56, 32, 47, 9, 47, 30, 17, 34, 29, 19, 69, 67, 73, 60, 34, 2, 77, 12, 74, 63, 89, 99, 46]\n"
     ]
    }
   ],
   "source": [
    "# tu codigo aquí\n",
    "\n",
    "#1: Creo la variable sample_list_1 vacía\n",
    "sample_list_2 = []\n",
    "\n",
    "#2: Utilizamos el buble for para agregar los 80 valores aleatorios sin necesidad de ser únicos\n",
    "for i in range(80):\n",
    "    sample_list_2.append(random.randint(0, 100))\n",
    "\n",
    "#2.1: Utilizo random.randit() para generar un número aleatorio entre 0 y 100\n",
    "#2.2: Utilizo append() para agregar el valor generado a la lista sample_list_2\n",
    "\n",
    "#3: Imprimo la lista sample_list_2\n",
    "print(sample_list_2)"
   ]
  },
  {
   "cell_type": "markdown",
   "metadata": {},
   "source": [
    "#### Convierte `sample_list_2` en un conjunto llamado `set2`. Imprime la longitud del conjunto. ¿Su longitud sigue siendo 80?"
   ]
  },
  {
   "cell_type": "code",
   "execution_count": 31,
   "metadata": {},
   "outputs": [
    {
     "name": "stdout",
     "output_type": "stream",
     "text": [
      "La longitud de sample_list_2 es: 80\n",
      "52\n",
      "La longitud sigue siendo 80? False\n"
     ]
    }
   ],
   "source": [
    "# tu codigo aquí\n",
    "print(f\"La longitud de sample_list_2 es: {len(sample_list_2)}\")  # imprime la longitud de sample_list_2\n",
    "\n",
    "#1: Convertir la lista en un conjunto llamado set2\n",
    "set2 = set(sample_list_2)\n",
    "\n",
    "#2: Imprimo la longitud del nuevo conjunto\n",
    "print(len(set2))\n",
    "\n",
    "print(f\"La longitud sigue siendo 80? {len(set2) == 80}\")"
   ]
  },
  {
   "cell_type": "markdown",
   "metadata": {},
   "source": [
    "#### Identifica los elementos presentes en `set1` pero no en `set2`. Asigna los elementos a un nuevo conjunto llamado `set3`."
   ]
  },
  {
   "cell_type": "code",
   "execution_count": 36,
   "metadata": {},
   "outputs": [
    {
     "name": "stdout",
     "output_type": "stream",
     "text": [
      "Elementos en set1 que no aparecen en set2:\n",
      "{7, 8, 10, 11, 13, 16, 18, 21, 23, 24, 25, 27, 35, 36, 38, 40, 41, 42, 43, 44, 51, 52, 53, 55, 58, 59, 61, 65, 66, 71, 76, 88, 91, 93, 94, 95, 96, 100}\n",
      "Número de elementos que tiene set3: 38\n"
     ]
    }
   ],
   "source": [
    "# tu codigo aquí\n",
    "#1: Identifico los elementos presentes en set1 pero no en set2, la operación - ayuda a encontrar los elementos que están presentes en un set pero no en el otro\n",
    "set3 = set1 - set2\n",
    "\n",
    "#2: Imprimo set3\n",
    "print(\"Elementos en set1 que no aparecen en set2:\")\n",
    "print(set3)\n",
    "print(f\"Número de elementos que tiene set3: {len(set3)}\")  # 2\n",
    "\n"
   ]
  },
  {
   "cell_type": "markdown",
   "metadata": {},
   "source": [
    "#### Identifica los elementos presentes en `set2` pero no en `set1`. Asigna los elementos a un nuevo conjunto llamado `set4`."
   ]
  },
  {
   "cell_type": "code",
   "execution_count": 35,
   "metadata": {},
   "outputs": [
    {
     "name": "stdout",
     "output_type": "stream",
     "text": [
      "Elementos en set2 que no aparecen en set1:\n",
      "{34, 68, 12, 47, 79, 20, 22, 54, 30, 63}\n",
      "Número de elementos que tiene set4: 10\n"
     ]
    }
   ],
   "source": [
    "# tu codigo aquí\n",
    "set4 = set2 - set1\n",
    "\n",
    "print(\"Elementos en set2 que no aparecen en set1:\")\n",
    "print(set4)\n",
    "print(f\"Número de elementos que tiene set4: {len(set4)}\")  # imprime el número de elementos en set4\n"
   ]
  },
  {
   "cell_type": "markdown",
   "metadata": {},
   "source": [
    "#### Ahora identifica los elementos compartidos entre `set1` y `set2`. Asigna los elementos a un nuevo conjunto llamado `set5`."
   ]
  },
  {
   "cell_type": "code",
   "execution_count": 34,
   "metadata": {},
   "outputs": [
    {
     "name": "stdout",
     "output_type": "stream",
     "text": [
      "Los elementos compartidos entre set1 y set2 son:\n",
      "{1, 2, 3, 4, 6, 9, 14, 15, 17, 19, 26, 29, 31, 32, 33, 39, 46, 48, 49, 56, 57, 60, 64, 67, 69, 72, 73, 74, 77, 78, 81, 82, 83, 84, 85, 86, 87, 89, 90, 92, 97, 99}\n",
      "Número de elementos que tiene set5: 42\n"
     ]
    }
   ],
   "source": [
    "# tu codigo aquí\n",
    "\n",
    "#1: Utilizamos & para identificar los elementos compartidos\n",
    "set5 = set1 & set2\n",
    "\n",
    "#2: Imprimo set 5\n",
    "print(\"Los elementos compartidos entre set1 y set2 son:\")\n",
    "print(set5)\n",
    "print(f\"Número de elementos que tiene set5: {len(set5)}\")  #3: Utilizamos len() para contar el número d"
   ]
  },
  {
   "cell_type": "markdown",
   "metadata": {},
   "source": [
    "#### ¿Cuál es la relación entre los siguientes valores?\n",
    "\n",
    "* len(set1)\n",
    "* len(set2)\n",
    "* len(set3)\n",
    "* len(set4)\n",
    "* len(set5)\n",
    "\n",
    "Usa una fórmula matemática para representar esa relación. Prueba tu fórmula con código Python."
   ]
  },
  {
   "cell_type": "code",
   "execution_count": 37,
   "metadata": {},
   "outputs": [
    {
     "name": "stdout",
     "output_type": "stream",
     "text": [
      "len(set1) + len(set2) = 132\n",
      "len(set3) + len(set4) + len(set5) = 90\n",
      "¿La fórmula se cumple? False\n"
     ]
    }
   ],
   "source": [
    "# tu codigo aquí\n",
    "# Calcular las longitudes\n",
    "len_set1 = len(set1)\n",
    "len_set2 = len(set2)\n",
    "len_set3 = len(set3)\n",
    "len_set4 = len(set4)\n",
    "len_set5 = len(set5)\n",
    "\n",
    "# Verificar la fórmula\n",
    "#Fórmula basada en la teoría de onjuntos y representa la relación entre los elmentos originales y los derivados\n",
    "#left_side representa el total de elementos en los dos conjuntos originales (incluye elementos únicos y compartidos) // right_side representa el total de elementos en los conjuntos derivados (set3= elementos únicos de set 1 y no presentes en el set2); (set4= elementos únicos de set 2 y no presentes en el set1); (set5= elementos compartidos entre set1 y set2)\n",
    "\n",
    "left_side = len_set1 + len_set2\n",
    "right_side = len_set3 + len_set4 + len_set5\n",
    "\n",
    "# Imprimir resultados\n",
    "print(f\"len(set1) + len(set2) = {left_side}\")\n",
    "print(f\"len(set3) + len(set4) + len(set5) = {right_side}\")\n",
    "print(f\"¿La fórmula se cumple? {left_side == right_side}\")\n"
   ]
  },
  {
   "cell_type": "markdown",
   "metadata": {},
   "source": [
    "#### Crea un conjunto vacío llamado `set6`."
   ]
  },
  {
   "cell_type": "code",
   "execution_count": 42,
   "metadata": {},
   "outputs": [
    {
     "data": {
      "text/plain": [
       "set()"
      ]
     },
     "execution_count": 42,
     "metadata": {},
     "output_type": "execute_result"
    }
   ],
   "source": [
    "# tu codigo aquí\n",
    "set6=set()\n",
    "set6"
   ]
  },
  {
   "cell_type": "markdown",
   "metadata": {},
   "source": [
    "#### Añade `set3` y `set5` a `set6` usando el método `update` de los Conjuntos de Python."
   ]
  },
  {
   "cell_type": "code",
   "execution_count": 45,
   "metadata": {},
   "outputs": [
    {
     "name": "stdout",
     "output_type": "stream",
     "text": [
      "{1, 2, 3, 4, 6, 7, 8, 9, 10, 11, 13, 14, 15, 16, 17, 18, 19, 21, 23, 24, 25, 26, 27, 29, 31, 32, 33, 35, 36, 38, 39, 40, 41, 42, 43, 44, 46, 48, 49, 51, 52, 53, 55, 56, 57, 58, 59, 60, 61, 64, 65, 66, 67, 69, 71, 72, 73, 74, 76, 77, 78, 81, 82, 83, 84, 85, 86, 87, 88, 89, 90, 91, 92, 93, 94, 95, 96, 97, 99, 100}\n"
     ]
    }
   ],
   "source": [
    "# tu codigo aquí\n",
    "\n",
    "set6.update(set3, set5)\n",
    "print(set6)  # {1, 2, 3, 4, 5"
   ]
  },
  {
   "cell_type": "markdown",
   "metadata": {},
   "source": [
    "#### Verifica si `set1` y `set6` son iguales."
   ]
  },
  {
   "cell_type": "code",
   "execution_count": 46,
   "metadata": {},
   "outputs": [
    {
     "name": "stdout",
     "output_type": "stream",
     "text": [
      "¿set1 es igual a set6? True\n",
      "set1: {1, 2, 3, 4, 6, 7, 8, 9, 10, 11, 13, 14, 15, 16, 17, 18, 19, 21, 23, 24, 25, 26, 27, 29, 31, 32, 33, 35, 36, 38, 39, 40, 41, 42, 43, 44, 46, 48, 49, 51, 52, 53, 55, 56, 57, 58, 59, 60, 61, 64, 65, 66, 67, 69, 71, 72, 73, 74, 76, 77, 78, 81, 82, 83, 84, 85, 86, 87, 88, 89, 90, 91, 92, 93, 94, 95, 96, 97, 99, 100}\n",
      "set6: {1, 2, 3, 4, 6, 7, 8, 9, 10, 11, 13, 14, 15, 16, 17, 18, 19, 21, 23, 24, 25, 26, 27, 29, 31, 32, 33, 35, 36, 38, 39, 40, 41, 42, 43, 44, 46, 48, 49, 51, 52, 53, 55, 56, 57, 58, 59, 60, 61, 64, 65, 66, 67, 69, 71, 72, 73, 74, 76, 77, 78, 81, 82, 83, 84, 85, 86, 87, 88, 89, 90, 91, 92, 93, 94, 95, 96, 97, 99, 100}\n",
      "Longitud de set1: 80\n",
      "Longitud de set6: 80\n"
     ]
    }
   ],
   "source": [
    "# tu codigo aquí\n",
    "\n",
    "# Verificar si set1 es igual a set6\n",
    "iguales = set1 == set6\n",
    "\n",
    "# Imprimir el resultado\n",
    "print(f\"¿set1 es igual a set6? {iguales}\")\n",
    "\n",
    "# imprimir los conjuntos para comparación visual\n",
    "print(\"set1:\", set1)\n",
    "print(\"set6:\", set6)\n",
    "\n",
    "# Imprimir las longitudes de los conjuntos\n",
    "print(f\"Longitud de set1: {len(set1)}\")\n",
    "print(f\"Longitud de set6: {len(set6)}\")\n"
   ]
  },
  {
   "cell_type": "markdown",
   "metadata": {},
   "source": [
    "#### Comprueba si `set1` contiene a `set2` utilizando el método `issubset` de los Conjuntos de Python. Luego verifica si `set1` contiene a `set3`."
   ]
  },
  {
   "cell_type": "code",
   "execution_count": 47,
   "metadata": {},
   "outputs": [
    {
     "name": "stdout",
     "output_type": "stream",
     "text": [
      "¿set2 es subconjunto de set1? False\n",
      "¿set3 es subconjunto de set1? True\n"
     ]
    }
   ],
   "source": [
    "# tu codigo aquí\n",
    "\n",
    "# Compruebo si set2 es subconjunto de set1\n",
    "es_subconjunto_set2 = set2.issubset(set1)\n",
    "\n",
    "# Compruebo si set3 es subconjunto de set1\n",
    "es_subconjunto_set3 = set3.issubset(set1)\n",
    "\n",
    "print(f\"¿set2 es subconjunto de set1? {es_subconjunto_set2}\")\n",
    "print(f\"¿set3 es subconjunto de set1? {es_subconjunto_set3}\")\n"
   ]
  },
  {
   "cell_type": "markdown",
   "metadata": {},
   "source": [
    "#### Utilizando el método `union` de los Conjuntos de Python, agrega `set3`, `set4` y `set5`. Luego agrega `set1` y `set2`.\n",
    "\n",
    "#### Verifica si los valores agregados son iguales."
   ]
  },
  {
   "cell_type": "code",
   "execution_count": null,
   "metadata": {},
   "outputs": [],
   "source": [
    "# tu codigo aquí"
   ]
  },
  {
   "cell_type": "markdown",
   "metadata": {},
   "source": [
    "#### Utilizando el método `pop`, elimina el primer elemento de `set1`."
   ]
  },
  {
   "cell_type": "code",
   "execution_count": null,
   "metadata": {},
   "outputs": [],
   "source": [
    "# tu codigo aquí"
   ]
  },
  {
   "cell_type": "markdown",
   "metadata": {},
   "source": [
    "#### Elimina cada elemento en la siguiente lista de `set1` si están presentes en el conjunto. Imprime los elementos restantes.\n",
    "\n",
    "```\n",
    "list_to_remove = [1, 9, 11, 19, 21, 29, 31, 39, 41, 49, 51, 59, 61, 69, 71, 79, 81, 89, 91, 99]\n",
    "```"
   ]
  },
  {
   "cell_type": "code",
   "execution_count": null,
   "metadata": {},
   "outputs": [],
   "source": [
    "# tu codigo aquí"
   ]
  },
  {
   "cell_type": "markdown",
   "metadata": {},
   "source": [
    "## BONUS - Desafío 3: Diccionarios\n",
    "\n",
    "En este desafío practicarás cómo manipular diccionarios en Python. Antes de empezar este desafío, te animamos a revisar los [Ejemplos y Métodos de Diccionarios en Python](https://www.w3schools.com/python/python_dictionaries.asp) de W3School.\n",
    "\n",
    "Lo primero que practicarás es cómo ordenar las claves en un diccionario. A diferencia del objeto de lista, el diccionario de Python no tiene un método *sort* incorporado. Necesitarás usar bucles FOR para ordenar los diccionarios ya sea por clave o por valor.\n",
    "\n",
    "El diccionario a continuación es un resumen de la frecuencia de palabras de la canción *Shape of You* de Ed Sheeran. Cada clave es una palabra en la letra y el valor es el número de veces que esa palabra aparece en la letra."
   ]
  },
  {
   "cell_type": "code",
   "execution_count": null,
   "metadata": {},
   "outputs": [],
   "source": [
    "word_freq = {'love': 25, 'conversation': 1, 'every': 6, \"we're\": 1, 'plate': 1, 'sour': 1, 'jukebox': 1, 'now': 11, 'taxi': 1, 'fast': 1, 'bag': 1, 'man': 1, 'push': 3, 'baby': 14, 'going': 1, 'you': 16, \"don't\": 2, 'one': 1, 'mind': 2, 'backseat': 1, 'friends': 1, 'then': 3, 'know': 2, 'take': 1, 'play': 1, 'okay': 1, 'so': 2, 'begin': 1, 'start': 2, 'over': 1, 'body': 17, 'boy': 2, 'just': 1, 'we': 7, 'are': 1, 'girl': 2, 'tell': 1, 'singing': 2, 'drinking': 1, 'put': 3, 'our': 1, 'where': 1, \"i'll\": 1, 'all': 1, \"isn't\": 1, 'make': 1, 'lover': 1, 'get': 1, 'radio': 1, 'give': 1, \"i'm\": 23, 'like': 10, 'can': 1, 'doing': 2, 'with': 22, 'club': 1, 'come': 37, 'it': 1, 'somebody': 2, 'handmade': 2, 'out': 1, 'new': 6, 'room': 3, 'chance': 1, 'follow': 6, 'in': 27, 'may': 2, 'brand': 6, 'that': 2, 'magnet': 3, 'up': 3, 'first': 1, 'and': 23, 'pull': 3, 'of': 6, 'table': 1, 'much': 2, 'last': 3, 'i': 6, 'thrifty': 1, 'grab': 2, 'was': 2, 'driver': 1, 'slow': 1, 'dance': 1, 'the': 18, 'say': 2, 'trust': 1, 'family': 1, 'week': 1, 'date': 1, 'me': 10, 'do': 3, 'waist': 2, 'smell': 3, 'day': 6, 'although': 3, 'your': 21, 'leave': 1, 'want': 2, \"let's\": 2, 'lead': 6, 'at': 1, 'hand': 1, 'how': 1, 'talk': 4, 'not': 2, 'eat': 1, 'falling': 3, 'about': 1, 'story': 1, 'sweet': 1, 'best': 1, 'crazy': 2, 'let': 1, 'too': 5, 'van': 1, 'shots': 1, 'go': 2, 'to': 2, 'a': 8, 'my': 33, 'is': 5, 'place': 1, 'find': 1, 'shape': 6, 'on': 40, 'kiss': 1, 'were': 3, 'night': 3, 'heart': 3, 'for': 3, 'discovering': 6, 'something': 6, 'be': 16, 'bedsheets': 3, 'fill': 2, 'hours': 2, 'stop': 1, 'bar': 1}"
   ]
  },
  {
   "cell_type": "markdown",
   "metadata": {},
   "source": [
    "#### Ordena las claves de `word_freq` de forma ascendente.\n",
    "\n",
    "Por favor, crea un nuevo diccionario llamado `word_freq2` basado en `word_freq` con las claves ordenadas de forma ascendente.\n",
    "\n",
    "Hay varias formas de lograr ese objetivo, pero muchas de ellas van más allá de lo que hemos cubierto hasta ahora en el curso. Hay una forma que describiremos empleando lo que has aprendido. Por favor, siéntete libre de usar esta forma o cualquier otra que desees.\n",
    "\n",
    "1. Primero extrae las claves de `word_freq` y conviértelas en una lista llamada `keys`.\n",
    "\n",
    "1. Ordena la lista `keys`.\n",
    "\n",
    "1. Crea un diccionario vacío `word_freq2`.\n",
    "\n",
    "1. Usa un bucle FOR para iterar cada valor en `keys`. Para cada clave iterada, encuentra el valor correspondiente en `word_freq` e inserta el par clave-valor en `word_freq2`.\n",
    "\n",
    "📖 [Documentación para un bucle for](https://docs.python.org/3/reference/compound_stmts.html#for)\n",
    "\n",
    "Imprime `word_freq2` para examinar sus claves y valores. Tu salida debería ser:\n",
    "\n",
    "```python\n",
    "{'a': 8, 'about': 1, 'all': 1, 'although': 3, 'and': 23, 'are': 1, 'at': 1, 'baby': 14, 'backseat': 1, 'bag': 1, 'bar': 1, 'be': 16, 'bedsheets': 3, 'begin': 1, 'best': 1, 'body': 17, 'boy': 2, 'brand': 6, 'can': 1, 'chance': 1, 'club': 1, 'come': 37, 'conversation': 1, 'crazy': 2, 'dance': 1, 'date': 1, 'day': 6, 'discovering': 6, 'do': 3, 'doing': 2, \"don't\": 2, 'drinking': 1, 'driver': 1, 'eat': 1, 'every': 6, 'falling': 3, 'family': 1, 'fast': 1, 'fill': 2, 'find': 1, 'first': 1, 'follow': 6, 'for': 3, 'friends': 1, 'get': 1, 'girl': 2, 'give': 1, 'go': 2, 'going': 1, 'grab': 2, 'hand': 1, 'handmade': 2, 'heart': 3, 'hours': 2, 'how': 1, 'i': 6, \"i'll\": 1, \"i'm\": 23, 'in': 27, 'is': 5, \"isn't\": 1, 'it': 1, 'jukebox': 1, 'just': 1, 'kiss': 1, 'know': 2, 'last': 3, 'lead': 6, 'leave': 1, 'let': 1, \"let's\": 2, 'like': 10, 'love': 25, 'lover': 1, 'magnet': 3, 'make': 1, 'man': 1, 'may': 2, 'me': 10, 'mind': 2, 'much': 2, 'my': 33, 'new': 6, 'night': 3, 'not': 2, 'now': 11, 'of': 6, 'okay': 1, 'on': 40, 'one': 1, 'our': 1, 'out': 1, 'over': 1, 'place': 1, 'plate': 1, 'play': 1, 'pull': 3, 'push': 3, 'put': 3, 'radio': 1, 'room': 3, 'say': 2, 'shape': 6, 'shots': 1, 'singing': 2, 'slow': 1, 'smell': 3, 'so': 2, 'somebody': 2, 'something': 6, 'sour': 1, 'start': 2, 'stop': 1, 'story': 1, 'sweet': 1, 'table': 1, 'take': 1, 'talk': 4, 'taxi': 1, 'tell': 1, 'that': 2, 'the': 18, 'then': 3, 'thrifty': 1, 'to': 2, 'too': 5, 'trust': 1, 'up': 3, 'van': 1, 'waist': 2, 'want': 2, 'was': 2, 'we': 7, \"we're\": 1, 'week': 1, 'were': 3, 'where': 1, 'with': 22, 'you': 16, 'your': 21}\n",
    "```"
   ]
  },
  {
   "cell_type": "code",
   "execution_count": null,
   "metadata": {},
   "outputs": [],
   "source": [
    "# Tu codigo aquí"
   ]
  },
  {
   "cell_type": "markdown",
   "metadata": {},
   "source": [
    "#### Ordena los valores de `word_freq` de forma ascendente.\n",
    "\n",
    "Ordenar los valores de un diccionario es más complicado que ordenar las claves porque los valores de un diccionario no son únicos. Por lo tanto, no puedes usar la misma forma en que ordenaste las claves del diccionario para ordenar los valores del diccionario.\n",
    "\n",
    "La forma de ordenar un diccionario por valor es utilizar las funciones `sorted` y `operator.itemgetter`. El siguiente fragmento de código se te proporciona para que lo pruebes. Te dará una lista de tuplas en la que cada tupla contiene la clave y el valor de un elemento del diccionario. Y la lista está ordenada basada en el valor del diccionario ( [referencia](http://thomas-cokelaer.info/blog/2017/12/how-to-sort-a-dictionary-by-values-in-python/)\n",
    ").\n",
    "\n",
    "```python\n",
    "import operator\n",
    "sorted_tups = sorted(word_freq.items(), key=operator.itemgetter(1))\n",
    "print(sorted_tups)\n",
    "```\n",
    "\n",
    "Por lo tanto, los pasos para ordenar `word_freq` por valor son:\n",
    "\n",
    "* Utilizando `sorted` y `operator.itemgetter`, obtén una lista de tuplas de los pares clave-valor del diccionario que está ordenada por el valor.\n",
    "\n",
    "* Crea un diccionario vacío llamado `word_freq2`.\n",
    "\n",
    "* Itera la lista de tuplas. Inserta cada par clave-valor en `word_freq2` como un objeto.\n",
    "\n",
    "Imprime `word_freq2` para confirmar que tu diccionario tiene sus valores ordenados. Tu salida debería ser:\n",
    "\n",
    "```python\n",
    "{'conversation': 1, \"we're\": 1, 'plate': 1, 'sour': 1, 'jukebox': 1, 'taxi': 1, 'fast': 1, 'bag': 1, 'man': 1, 'going': 1, 'one': 1, 'backseat': 1, 'friends': 1, 'take': 1, 'play': 1, 'okay': 1, 'begin': 1, 'over': 1, 'just': 1, 'are': 1, 'tell': 1, 'drinking': 1, 'our': 1, 'where': 1, \"i'll\": 1, 'all': 1, \"isn't\": 1, 'make': 1, 'lover': 1, 'get': 1, 'radio': 1, 'give': 1, 'can': 1, 'club': 1, 'it': 1, 'out': 1, 'chance': 1, 'first': 1, 'table': 1, 'thrifty': 1, 'driver': 1, 'slow': 1, 'dance': 1, 'trust': 1, 'family': 1, 'week': 1, 'date': 1, 'leave': 1, 'at': 1, 'hand': 1, 'how': 1, 'eat': 1, 'about': 1, 'story': 1, 'sweet': 1, 'best': 1, 'let': 1, 'van': 1, 'shots': 1, 'place': 1, 'find': 1, 'kiss': 1, 'stop': 1, 'bar': 1, \"don't\": 2, 'mind': 2, 'know': 2, 'so': 2, 'start': 2, 'boy': 2, 'girl': 2, 'singing': 2, 'doing': 2, 'somebody': 2, 'handmade': 2, 'may': 2, 'that': 2, 'much': 2, 'grab': 2, 'was': 2, 'say': 2, 'waist': 2, 'want': 2, \"let's\": 2, 'not': 2, 'crazy': 2, 'go': 2, 'to': 2, 'fill': 2, 'hours': 2, 'push': 3, 'then': 3, 'put': 3, 'room': 3, 'magnet': 3, 'up': 3, 'pull': 3, 'last': 3, 'do': 3, 'smell': 3, 'although': 3, 'falling': 3, 'were': 3, 'night': 3, 'heart': 3, 'for': 3, 'bedsheets': 3, 'talk': 4, 'too': 5, 'is': 5, 'every': 6, 'new': 6, 'follow': 6, 'brand': 6, 'of': 6, 'i': 6, 'day': 6, 'lead': 6, 'shape': 6, 'discovering': 6, 'something': 6, 'we': 7, 'a': 8, 'like': 10, 'me': 10, 'now': 11, 'baby': 14, 'you': 16, 'be': 16, 'body': 17, 'the': 18, 'your': 21, 'with': 22, \"i'm\": 23, 'and': 23, 'love': 25, 'in': 27, 'my': 33, 'come': 37, 'on': 40}\n",
    "```"
   ]
  },
  {
   "cell_type": "code",
   "execution_count": null,
   "metadata": {},
   "outputs": [],
   "source": [
    "# Tu codigo aquí"
   ]
  }
 ],
 "metadata": {
  "kernelspec": {
   "display_name": "base",
   "language": "python",
   "name": "python3"
  },
  "language_info": {
   "codemirror_mode": {
    "name": "ipython",
    "version": 3
   },
   "file_extension": ".py",
   "mimetype": "text/x-python",
   "name": "python",
   "nbconvert_exporter": "python",
   "pygments_lexer": "ipython3",
   "version": "3.12.8"
  }
 },
 "nbformat": 4,
 "nbformat_minor": 2
}
